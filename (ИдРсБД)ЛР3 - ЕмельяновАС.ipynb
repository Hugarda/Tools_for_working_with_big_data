{
 "cells": [
  {
   "cell_type": "markdown",
   "id": "5a4b49ee",
   "metadata": {},
   "source": [
    "# Лабораторная работа №3\n",
    "## Извлечение средневековых текстов с помощью Tesseract OCR"
   ]
  },
  {
   "cell_type": "markdown",
   "id": "544b298f",
   "metadata": {},
   "source": [
    "### Выполнил: Емельянов Андрей Сергеевич гр. 8ПМ21"
   ]
  },
  {
   "cell_type": "markdown",
   "id": "2306e6b2",
   "metadata": {},
   "source": [
    "## Описание задания"
   ]
  },
  {
   "cell_type": "markdown",
   "id": "f9006de1",
   "metadata": {},
   "source": [
    "**Цель работы**: исследовать возможности технологии OCR и инструмента Tesseract OCR на реальных данных.\n",
    "\n",
    "**Входные данные**: 4 изображения - скана книги с архивными средневековыми текстами на древненемецком и латыни.\n",
    "\n",
    "**Выходные данные**: текст."
   ]
  },
  {
   "cell_type": "markdown",
   "id": "875b9afc",
   "metadata": {},
   "source": [
    "## Ход работы"
   ]
  },
  {
   "cell_type": "markdown",
   "id": "afdd0afa",
   "metadata": {},
   "source": [
    "### Импорт библиотек, чтение данных, определение вспомогательных функций"
   ]
  },
  {
   "cell_type": "code",
   "execution_count": 1,
   "id": "542c4f60",
   "metadata": {},
   "outputs": [],
   "source": [
    "import os\n",
    "os.environ['KMP_DUPLICATE_LIB_OK']='TRUE'"
   ]
  },
  {
   "cell_type": "code",
   "execution_count": 2,
   "id": "9c8f4d6e",
   "metadata": {},
   "outputs": [],
   "source": [
    "import numpy as np\n",
    "import pprint\n",
    "import cv2\n",
    "import pytesseract\n",
    "import easyocr\n",
    "import keras_ocr\n",
    "import PIL\n",
    "from PIL import Image"
   ]
  },
  {
   "cell_type": "code",
   "execution_count": 3,
   "id": "11c8f82c",
   "metadata": {},
   "outputs": [],
   "source": [
    "pytesseract.pytesseract.tesseract_cmd = r'C:\\Program Files\\Tesseract-OCR\\tesseract.exe'"
   ]
  },
  {
   "cell_type": "markdown",
   "id": "b9f29db9",
   "metadata": {},
   "source": [
    "Загрузка изображений"
   ]
  },
  {
   "cell_type": "code",
   "execution_count": 4,
   "id": "6ddc41e2",
   "metadata": {},
   "outputs": [],
   "source": [
    "imgs = []\n",
    "for i in [1,2,3,4]:\n",
    "    imgs.append(Image.open(f'D:/сканы книги/static/medieval_page_{i}.jpeg'))"
   ]
  },
  {
   "cell_type": "markdown",
   "id": "e7b2a2b2",
   "metadata": {},
   "source": [
    "### Пример распознавания с помощью Tesseract"
   ]
  },
  {
   "cell_type": "code",
   "execution_count": 5,
   "id": "22c557ed",
   "metadata": {},
   "outputs": [],
   "source": [
    "text = pytesseract.image_to_string(imgs[0], lang='lat')"
   ]
  },
  {
   "cell_type": "code",
   "execution_count": 6,
   "id": "a3e620e6",
   "metadata": {},
   "outputs": [
    {
     "name": "stdout",
     "output_type": "stream",
     "text": [
      " \n",
      "\n",
      "1440.\n",
      "Janum: 27.\n",
      "\n",
      "1445.\n",
      "April 5.\n",
      "\n",
      "482.\n",
      "\n",
      "im.\n",
      "April 5.\n",
      "\n",
      "April 5.\n",
      "\n",
      "692 IAM-L N. 431. 452.\n",
      "\n",
      "ist und seyn wirt, mogt ir in euwam nutus mit den sudem steten\n",
      "nemun null heren. lliruach mogt ir onch wissen zcu richten. Gaben\n",
      "zcu Holland ain l)ourstag nach conversionis Pauli im 46. jar.\n",
      "\n",
      "Ständntag zu Elbing.\n",
      "[Li—IG Diensmg nach Judica.]\n",
      "Mit dem IIL-casa der Städte (lt) verbinden wir cin schriftliollen Gut-\n",
      "achten des dnrch Krankheit vnn der Tagfahrt fsnl gehaltenen ländr-Lths\n",
      "Hans von Baysen (u).\n",
      "\n",
      "A. nixum der 'l'ugïallrt zn n 'ng, Dimismg meh Judica mi'-. Der\n",
      "nn. bum die sumai um Rath wwl mehrerer ll'eichselaushrüche, was sic\n",
      "on ins Ihrigeu zurückziehen. Die vier anlesbischüic stellen nos eigener\n",
      "Bewegung, doch mit Wissen des nm, den Ständen vor, dass ihr Bund\n",
      "gegm. göttlirlma und mnnsnhliches imm \"iniussu, Femer kommen zur\n",
      "Vorhaulllung cin Achtbrirf gegvll me Heli:-ml\", Mckelfelds unt! Westplmls\n",
      "sian-, Forderungen! der suum Brannslvvrg ima Knnipllof in Bstn-ti dus\n",
      "Pt'unüznllns, il.-r Verkehr de!\" (iam nanmntlicli der Nürnberger im Lande,\n",
      "\n",
      "dio cheraubfnhr, die Arbeit dor Kannengiosscr, dur Färber nnd. Gai-uer, die\n",
      "Verwaltung der Hei-iuge.\n",
      "\n",
      "Orig. in a\". Dum. liec. p. 286\" (auch einzeln u;. A. XLVII, 22a),\n",
      "'['/mm. liec. fol. 209, ubi R::c ful, Illö.\n",
      "\n",
      "Anno domini 1446 .domini nunccii consulares civitatium terre\n",
      "Prusia infrascriptarum videlicet de Colmen Bartholomeus ltosenick,\n",
      "Johnnnes' Malcskeb, de Thorun Hermannus annp, Ruteherus von\n",
      "Birken', de Elbing Petrus Stonn, Johannes ll'inthurg, Johannes\n",
      "Sounenwalt, Johannes von linden, de Brunsberg Nicolaus Rudolll'lmven,\n",
      "Audiens Bekemand, de Knningsborg Nicolaus Pleszs, Johannes Slesigr-r,\n",
      "de Knegphnbs Georgius Langen-hey], Heynricus Pfoel. ds Dnnczik\n",
      "Lucas Mekelvelt, Martinus Cmnmn, Meynlmnlus Colner' et Johannes\n",
      "Msyileborg feria tortis post Judical in Elbiugo ad placita congregati\n",
      "subscriptos articulos concorditer pertractarunt.\n",
      "\n",
      "Ins erste nschdeme der hui-re houieister den heren prelnten,\n",
      "laude nnd stete hoi vorgegcbcn, begerenfle nm Iethlieh zcn siende,\n",
      "weysze nnd wege zcu fyndends, [las der uszhmch czu Wydow im\n",
      "Nnget nnde etliche ander ns/bmche an der Weysell diessen seynen\n",
      "landen grossen mercklichr-n schaden getan hot und noch velo grosseren\n",
      "schaden thun wurde, so verte is nicht undirstanden wurde, muchte\n",
      "\n",
      " \n",
      "  \n",
      "\n",
      " \n",
      "\n",
      "-) mem nt n. I:) \"Atti\n",
      "\n",
      ":. c) Go F. 'I. am: Matris wm. n, a) llic Brlunlhsrgnl\n",
      "fel-lco 's, a) cuium. n. 0 Nayde .\n",
      "\n",
      "m.c. n. !, undo ni. W'eywl ich-lt s.\n",
      "\n",
      "   \n",
      "\n",
      "\n"
     ]
    }
   ],
   "source": [
    "print(text)"
   ]
  },
  {
   "cell_type": "markdown",
   "id": "83baf8a0",
   "metadata": {},
   "source": [
    "### Пример распознавания с помощью EasyOCR"
   ]
  },
  {
   "cell_type": "code",
   "execution_count": 7,
   "id": "bf0ab20c",
   "metadata": {},
   "outputs": [
    {
     "name": "stderr",
     "output_type": "stream",
     "text": [
      "CUDA not available - defaulting to CPU. Note: This module is much faster with a GPU.\n"
     ]
    }
   ],
   "source": [
    "reader = easyocr.Reader(['de', 'la'])\n",
    "text = reader.readtext(imgs[0], detail=0, paragraph=True)"
   ]
  },
  {
   "cell_type": "code",
   "execution_count": 8,
   "id": "a8f3d723",
   "metadata": {},
   "outputs": [
    {
     "name": "stdout",
     "output_type": "stream",
     "text": [
      "['692',\n",
      " '1446',\n",
      " 'N. 431. 432',\n",
      " 'ist   und seyn wirt,   mogt ir euweru   nutcz   muit   den andern   steten '\n",
      " 'nenıen und keren. Hiruach mogt ir euch wisseu zcu   richten. Geben 1446. zCU '\n",
      " 'Holland a10 Dourstag pach   conversionis Pauli iu 46. jar. Januar 27.',\n",
      " 'Ständetag zu Elbing: 1446. [1446 Dienstag  nach Judica ] April 5. Mit dem '\n",
      " 'Recess der Stidte   (A)  verbinden wir cin   gchriftliches Gut- achten des '\n",
      " 'durch Krankheit You der Tagfabrt foru gehaltencn Laudraths Hans Fon Baysen '\n",
      " '(B) 482 Recegs der   Tagfahrt Elbing, Dienstag   nach Judica 1416. Der HM.  '\n",
      " 'bittet   die Stände um   Rath   Wegen mehrerer   Weichselausbrüche; was si0 '\n",
      " 'au die   Ibrigeu   zurückziehen. Die VICI Laudosbischole stelluu 81B eigener '\n",
      " \"Bewegung,   doch mit   Wissen   des   IIM'3, dep   Ständen   vor, dagg ilr \"\n",
      " 'Bund gegcn göttliches und mcuschliches Recht verstogse. Ferncr Lomwen ZUT '\n",
      " 'Verhandlung  ein   Achtbrief   gegen die   Hollândor,   Mekelfelde und '\n",
      " 'Westphals Sachc, Forderungen dcr Städte Braunsberg und Knoiphof Betreff des '\n",
      " 'Pfundzolles; der   Vorkehr der   Gästo, uanoutlich der Nüruberger   im '\n",
      " 'Lande, dio  Lederausfuhr,   die Arbeit dor Kaunongiosscr, der Furber und '\n",
      " 'Gurtlør,  dio Yerpackung der Heringe. Orig  in den Danz. Rec. P. 286 (auch '\n",
      " 'einzeln Dz. A. XLVII, 22a), Thorn. Rec. fol. 209, Elb. Rec. fol 108 . 1446. '\n",
      " 'Anno   domini 1446 domini nunccii consulares civitatum terre April 5. '\n",
      " 'Prusie   infrascriptarum   videlicet de   Colmen   Bartholomeus Rosenick, '\n",
      " 'Johannes\" Matczkeb , de Thorun Hermannus   Rusop; Rutcherus von Birken\\' de '\n",
      " 'Elbivg Petrus   Storın , Jobanues Wintburg , Johanpes Sonnenwalt,  Johannes '\n",
      " 'Yonl Ruden;  de Brunsberg Nicolaus Rudolfhoven, Andreag   Bekemnana de '\n",
      " 'Koningsberg   Nicolaus Plesze, Jobannes Slesiger; de   Kneyphabe   '\n",
      " 'Georgius   Langerbeyn; Heynricus   Pfoel, do Danczik Lncas   Mekelvelt; '\n",
      " 'Martinus  Crenon;   Meynhardus   Colners et Johannes April 5.  Meydeborg   '\n",
      " 'feria   tertia   post Judica in Elbingo   ad  placita   congregati '\n",
      " 'subscriptos   articulos   concorditer   pertractarunt. Ing   erste nachdemne '\n",
      " 'der   herre   homeister den heren prelaten; lande und stete bot   '\n",
      " \"vorgegcben;   begerende em rethlich zcu siende wey '8ze und Wege zcu \"\n",
      " 'fyndende; das der   uszbroch czu Wydow in Naget unde   etliche ander   '\n",
      " 'uszbroche an der   Weysele   diessen   seyuen landen   groszen  '\n",
      " 'nıercklichen   schaden getan bot und noch velo grosseren schaden   thun '\n",
      " 'wurde; 80 verre   ig   nicht   undirstanden   wurde; nıuchte Michel D. L b) '\n",
      " 'Mattig ] 0) 80 E T. daflłr Mettis Weibe 0 Dio Brauneberger feblen 1. '\n",
      " 'Coluuncr E, 1) Moydeb. apf Judice E. uude bieWeybel Iellt E']\n"
     ]
    }
   ],
   "source": [
    "pprint.pprint(text)"
   ]
  },
  {
   "cell_type": "markdown",
   "id": "2f5c56e3",
   "metadata": {},
   "source": [
    "### Пример распознавания с помощью KerasOCR"
   ]
  },
  {
   "cell_type": "code",
   "execution_count": 9,
   "id": "42c890f1",
   "metadata": {},
   "outputs": [
    {
     "name": "stdout",
     "output_type": "stream",
     "text": [
      "Looking for C:\\Users\\andre\\.keras-ocr\\craft_mlt_25k.h5\n",
      "Looking for C:\\Users\\andre\\.keras-ocr\\crnn_kurapan.h5\n"
     ]
    }
   ],
   "source": [
    "recognizer = keras_ocr.pipeline.Pipeline()"
   ]
  },
  {
   "cell_type": "code",
   "execution_count": 10,
   "id": "37c35812",
   "metadata": {},
   "outputs": [],
   "source": [
    "image = cv2.imread('../static/medieval_page_1.jpeg')"
   ]
  },
  {
   "cell_type": "code",
   "execution_count": 11,
   "id": "8d70e861",
   "metadata": {},
   "outputs": [
    {
     "name": "stdout",
     "output_type": "stream",
     "text": [
      "1/1 [==============================] - 17s 17s/step\n",
      "12/12 [==============================] - 36s 3s/step\n"
     ]
    }
   ],
   "source": [
    "predictions = recognizer.recognize([image])"
   ]
  },
  {
   "cell_type": "code",
   "execution_count": 12,
   "id": "b9aa8b4d",
   "metadata": {},
   "outputs": [
    {
     "data": {
      "text/plain": [
       "'692 1446 n 131 452 wirty und mit den ist mogt ir in andern seyn nutcz euwerm steten und keren hirnach ir inogt euch wissen richten geben nemen zcu holland 144g doinrstag nach conversionis pauli 16 im jar zcu ain januar 21 standetag elbing zu 1446 1116 dienstag nach judicaj april 5 mit dem recess der stidte a verbinden wir schriftliches cin guts achten des durch krankheit der tagfahrt fernn gehaltenen landraths von hans baysen by von 48l a recess der tagfabrt elbing dienstag nach judica 1416 der zu hm bittet die stinde rath mehrerer weichselausbriche um sie wegel was die ihrigen zuruckzielen die vier landesbischofe an stellen eigoner aus bewegung doch mit wissen des lim stainden den ihr bund dass s yors gittliches und gegen menschliches recht verstosse ferner kommen zur verhandlung ein achtbrief die hollainder mekelfelds und westplals gegen sachc forderungen der stidte knoiplof in betreff braunsberg und des prundzolles der vorkehr der gaston amontlich der nurmberger im lande dio lederausfubr die arbeit dor kalnengiesser der firber und gurtler die yerpackung der heringe orig in den darze rec 286 auch einzeln dz xlvil 22al a p thorn rec fol 2094 dlb rcc 108 fol domini anno 144g domini nunccii consulares civitatum 144g terre april 5 prusie infrascriptarum videlicet de colmen bartholomeus rosenick johannes matczkeb thorun de hermannus rusops rutcherus von birken de elbing petrus storin johannes wintburgs johannes d d sonnenwalt johannes ruden de brunsberg nicolaus rudolfhoven yon andreas bekemand de koningsberg nicolaus pleszes slesiger johannes d de kneyphabe georgius langerbeyn pfoel de heynricus danczik lucas mekelvelt colners martinus cremon meynhardus et johannes meydeborg feria ad april 5 tertia judica l in elbingo placita post congregati subscriptos articulos concorditer pertractarunt ins nachdeme den erste der homeister herre heren prelaten lande und stete hot vorgegcben rethlich siende begerende em zcu und fyndende das der uszbroch wydow im weysze wege zcu czu naget unde weysels etliche ander uslbroche der diessen seynen an landen nercklichen hot und schaden getan noch velo groszen grosseren schaden wurde thun undirstanden wurde is nicht muchte s0 verre michel bj e b mattis braunsberger da mattig e so e t dafur weise d d dic o teblen t colmiener d e d mcydeb judica wide bis weybel lellt e auf e 81'"
      ]
     },
     "execution_count": 12,
     "metadata": {},
     "output_type": "execute_result"
    }
   ],
   "source": [
    "\" \".join([x[0] for x in predictions[0]])"
   ]
  },
  {
   "cell_type": "markdown",
   "id": "a181f8d9",
   "metadata": {},
   "source": [
    "### Итоговый вариант распознавания и запись в файлы для лабораторной работы №4"
   ]
  },
  {
   "cell_type": "code",
   "execution_count": 13,
   "id": "1c1db523",
   "metadata": {
    "scrolled": false
   },
   "outputs": [
    {
     "name": "stdout",
     "output_type": "stream",
     "text": [
      "1446.\n",
      "Januar 23.\n",
      "\n",
      "1446,\n",
      "April 5.\n",
      "\n",
      "452.\n",
      "\n",
      "1446.\n",
      "April 5.\n",
      "\n",
      "April 5.\n",
      "\n",
      "692 1446. NN. 431, 432,\n",
      "\n",
      "ist und seyn wirt, mogt ir in euwern nntez mü& den andern steten\n",
      "nemen und keren. Hirnach mogt ir euch wissen zcu richten. Geben\n",
      "zcu Holland am Donrstag nach conversionis Pauli im 40. jar.\n",
      "\n",
      "Stándetag zu Elbing.\n",
      "[1446 Dienstag nach Judica]\n",
      "\n",
      "Mit dem Recess der Stidte (A) verbinden wir ein schriftliches Gut-\n",
      "achten des durch Krankheit von der \"Tagfahrt fern gehaltenen Landraths\n",
      "Hans von Baysen (H).\n",
      "\n",
      "A. Mecess der Tagfahrt zu Elbing, Dienstag nach Judiea 1440. Der\n",
      "HM. bittet die Stinde um Rath wegen mehrerer Weichselausbrüche, was sio\n",
      "àn die lhrigen zurückziehen. Die vier Laudesbischüfe stellen aus eigener\n",
      "Bewegung, doch mit Wissen des HM's, den Stünden vor, dass ihr Bund\n",
      "Eeron gütlliches und meuschliches Recht verstosse. Ferner kommen zur\n",
      "Verhandlung eim Achtbrief gegen die Hollinder, Mekelfelds und Westphuls\n",
      "Sache, Forderungen der Stüdte Braunsberg und Kuoiphof in Betreff des\n",
      "Pfundzolles, der Verkehr der Güste, namentlich der Nürnberger im Lande,\n",
      "die Lederausfuhr, die Arbeit dor Kannengiesser, der Fürber und Gürtler, die\n",
      "Verpackung der Heringe.\n",
      "\n",
      "Orig. in den Denz. Bec. p. 286 ('auch einzeln Dz. A. XLV1I, 22a),\n",
      "Thorn. Hec. fol. 209, Elb. Hec. fol. 108.\n",
      "\n",
      "Anno domini 1446 .domini nunceii consulares civitatum terre\n",
      "Prusie infraseriptarum videlicet de Colmen Bartholomeus HRosenick,\n",
      "Johannes* Matezke*, de Thorun Hermannus Rusop, Rutcherus von\n",
      "Birken*, de Elbing Petrus Storm, Johannes Wintburg, Johannes\n",
      "Sonnenwalt, Johannes von Ruden, de Brunsberg Nicolaus Rudolffhoven,\n",
      "Andreas Bekeman?, de Koningsberg Nicolaus Plesze, Johannes Slesiger,\n",
      "de Kneyphabe Georgius Langerbeyn, Heynrieus Pfoel de Danezik\n",
      "Lucas Mekelvelt, Martinus Cremon, Meynhardus Colner* et Johannes\n",
      "Meydeborg feria tertia post Judica! in Elbingo ad placita congregati\n",
      "subseriptos articulos concorditer pertractarunt.\n",
      "\n",
      "Ins erste nachdeme der herre homeister den heren prelaten,\n",
      "lande und stete hot vorgegeben, begerende em rethlich zeu siende,\n",
      "weysze und wege zeu fyndende, das der uszbroch czu Wydow im\n",
      "Naget unde etliche ander uszbroche an der Weysele diessen seynen\n",
      "landen groszen niercklichen. schaden getan bot und noch vele grosseren\n",
      "Schaden thun wurde, so verre is nicht undirstanden wurde, muchte\n",
      "\n",
      "3) Michel D. E. b) Mattis\n",
      "\n",
      "E. c) So E. T. dafür Mattis Weise D. d) Dio Draunsberger\n",
      "felen T. o) Colmenor E, f) Meydeb.\n",
      "\n",
      "Judice E. g) unde bia Weysel fellt E.\n",
      "\n",
      "\n",
      "\n",
      "------------------------------------\n",
      "\n",
      "Nr. 291\n",
      "\n",
      "1454.\n",
      "\n",
      "zinses und des geriehtes gebrauchen, bis das man im seinen haupt-\n",
      "stul bezalte, und wer 400 mark wolde leihen auf ein dorf, das\n",
      "\n",
      "431\n",
      "\n",
      "100 mark zinset, der solde den virden pfenig frei haben und solde\n",
      "sich bezalen mit den drey pfenigen, bis er gar bezalt wird, und sol\n",
      "genissen des scharwerks, huner und gerichte. Und auf das die\n",
      "kleinen stedto gutwillig mit zu dieser taxirung weren, so solden\n",
      "land und stedte nach irem hogsten vermogen in hulflich sein kegen\n",
      "dem hern konige, das sie irer grunde und erbzinser in iren stedten\n",
      "erlosson wurden, das welche die grossen stedte vorheiszen haben\n",
      "also lange dasselbige aufzuheben, bis die leute bezalt werden.\n",
      "\n",
      "Hirnach volget die taxirunge\n",
      "\n",
      "Colmisch land.\n",
      "Colmen mark 500\n",
      "\"Thorun. » 2000\n",
      "Grudenz » 400\n",
      "Reden . x». 00\n",
      "Straszburg. 9 Bep\n",
      "Neumark . s $» 400\n",
      "Lebenn » 200\n",
      "lessen... «ESO\n",
      "Golaw .. RS 50\n",
      "Sehonsee 5 50\n",
      "Colmsee. .. ....-- 3o 50\n",
      "\n",
      "Elbingisch [gebitel*\n",
      "Elbing .......- ....mark 2000\n",
      "\n",
      "Neustadt. Elbing . » 200\n",
      "Holland . . . , 400\n",
      "Morung . » 100\n",
      "\"Tolkemit » 100\n",
      "Mulhausen » 50\n",
      "Liebstadt » 50\n",
      "Passenheim . » 50\n",
      "Bischofthum Heilsberg.\n",
      "\n",
      "Brunsberg .....- .9, 2000\n",
      "Neustadt Brunsberg.. , 200\n",
      "Wormenit . », 600\n",
      "\n",
      "600\n",
      "\n",
      "Heilsbergk .\n",
      "\n",
      "8) g. Conj.\n",
      "\n",
      "Ressel .. 2EDUU\n",
      "Gutstadt , 200\n",
      "Seoburg . 2 ?00\n",
      "Bischofstein . DES 50\n",
      "Melsack . * 100\n",
      "Allenstein $. 20D\n",
      "Fraunburg , 100\n",
      "\n",
      "Konigsbergisch gehite.\n",
      "Konigsborg .\n",
      "\n",
      "Knoiphof . ..\n",
      "\n",
      "Lebenicht ..\n",
      "\n",
      "Welau..\n",
      "\n",
      "Gerdau .\n",
      "\n",
      "Allenbergk .\n",
      "\n",
      "Friedland ..\n",
      "\n",
      "Dringfort, .... » 30\n",
      "Domnaw . 3 50\n",
      "Schippenbil . «10 200\n",
      "Rastenburg . » 400\n",
      "Zegensburg . » 30\n",
      "Bartenstein . » 0600\n",
      "Landsberg » 300\n",
      "Czinten » 400\n",
      "Heiligenbeil . 8200\n",
      "Creuzburg »y 100\n",
      "Fischausen 50\n",
      "\n",
      "\n",
      "\n",
      "------------------------------------\n",
      "\n",
      "Nr. 166.\n",
      "\n",
      "ufftmals ouch entschuldiget hat, uff das die sachen bis die sende-\n",
      "bothen inkomen, in eyme gutten anstande bleiben mochten, ydach\n",
      "was euw. erw. gn. das notezbarste und beste hirbey zcu thun dir-\n",
      "kennet, das setcze ich zcu euw. erw. gn. Geben zeu Brandenburg\n",
      "am tage Purificationis Marie im etc. 54'*^ jare.\n",
      "\n",
      "Kompthur zou Brandemburg.\n",
      "\n",
      "V. Comthur zu Balga schreibt dem HM., rüth nach Rückkehr der Sende-\n",
      "boten vom Kaiser eine Tagfabrt anzusetzen, mit Land und Stüdten in Thorn\n",
      ". über diesen Aufschub unterbandeln zn lassen. Balga, Lichtmess 54.\n",
      "\n",
      "Orig. init. SR. im. D.O.A\n",
      "\n",
      "Meynen gar willigen .. Als mir euw. gn. geschreben hat unde\n",
      "damitt eyne abeschrift des kompthurs von Straszburg brieffe ge-\n",
      "santh, die ich leszende habe vornomen, darinne denne berurth ist\n",
      "von eyner tagefard zcu legen etc. erw. gn. l. h. ho., meyn rath und\n",
      "gutduncken doruff ist, das euw. gn. eyne semeliche tagefard, so die\n",
      "sendebotten ynkomen seynt, geruche zeu vorramen, ween das den\n",
      "steten und erbar lewthen ym Nydderlande ouch gerathen dewchtet,\n",
      "so das desse sachen ame tagefard micht hengeleget mogen werden,\n",
      "das men semeliche tagefard lege und die zcugeen lasze, uff das desse\n",
      "sachen dodurch zcu eynen gutten ende und usztrage mogen komen\n",
      "und gebracht werden. Ouch als in der gedochten abeschrifit ausz-\n",
      "gedruct ist, das euw. gn. czwene gebietiger zcu den, die zcu Thorun\n",
      "leggen, senden geruchte etc, meyn rath ist, das euw. gn. czweene\n",
      "gebietiger dahen ken Thorun sende, alda euw. gn. zcu entschuldigen,\n",
      "das euw. gn. nicht fremde geste her innsz land begereth zcu brengen\n",
      "sie domitt zeu obirfallen, ouch das sich semliche gebietiger alda zou\n",
      "\"Thorun bearbeyten mogen, so das eyne sulche tagefard, der sie yo\n",
      "begeren, eyn ansteen moge haben zcu eyner gutten gedolt, besz die\n",
      "sendeboten herinn komen, doch yn dessem euw. gn. vorbesserunge.\n",
      "Gegeben zeur Balga am tage unser Frauwen lichtmessen im etc,\n",
      "54t*^ jore.\n",
      "\n",
      "Kompthur zeur Balga.\n",
      "\n",
      "\n",
      "\n",
      "------------------------------------\n",
      "\n",
      "N. 432. 1446. 693\n",
      "\n",
      "gefangen und widder gemacht werden, so haben lande und stete dem\n",
      "heren homeister widder geantwert, das sie dovon keyne bevelunge von\n",
      "den iren hetten. sunder welde syne gnade en* seyne meynunge vor-\n",
      "Steen laessen, was her begerte, das sie do furder bey thun sulden, das\n",
      "welden sie gerne an ire eldesten brengen, und begerten, das der herre\n",
      "homeister sotans den anderen von den landen unde steten, die hir\n",
      "nieht enworen, welde vorkundigen, das der herre homeister vorheysen\n",
      "hat czu thunde, unde dis han die stete czurugke geczogen bis an ir\n",
      "eldestenb.\n",
      "\n",
      "Item so seyn die heren prelaten dis landis alle zeu landen unde\n",
      "steten gekomen, unde haben en durch den heren bisschoff von Heyligs-\n",
      "bergk laessen vorgeben, das sie en etliche sachen vorezugebende hetten,\n",
      "berurende, naehdeme eyn iglicher prelate hette die scboffe unde undir-\n",
      "sossen seynes sprengels von gote unde der hilgen kirchen wegen, so\n",
      "sie in irzalweren, umme selikeyt irer selen in den weg der rechtikeyt\n",
      "ezu weisende und czu brengende, wente eyn iglicher prelate pflichtig\n",
      "ist gote dem almechtigen im letezsten gerichte rechenschafit von den,\n",
      "die im bevolen weren, zcu tuende unde zeu vorentwerten, so hetten sie\n",
      "angescen mit fleyse irer und irer undirsossen selicheit, dorezu sie nw\n",
      "vorpfcht weren von heysschunge und ordenunge der heylgen kirchen\n",
      "und bey vorlust erer ammethe unde wirdikeit, und hetten betracht den vor-\n",
      "bunth und die voreynunghe, die die ritters, knechte und stete der lande,\n",
      "gebiete und stete dis landes czu Preusen gemacht hetten, usz welchem\n",
      "sie mit fleyseger und sorgfeldiger betrachtunge vornemen, das der vor-\n",
      "bunt were widder alle gotliche nnd naturliche rechte!, kegen sntezunge\n",
      "bobischlicher und keserlicher ordenunge und befestunge, alse des heren\n",
      "bobistes Onorii, der Romischen keyser alse Fredericy und Karoli des\n",
      "vierden, und dornoch widder satezunge der heilgen concilia Lateranen[sia]\n",
      "und Melotanen[sia]P, und nemlich die fumff artikel in dem bunde der\n",
      "vorberurten ritter, knechte und stete beruret, die allef nicht bestendig\n",
      "weren mit vele bewerunge geistliches und wertliches rechtes, die dorezu\n",
      "dienenn, und dorezu mit mercklichen groszen sweren bwszen in den\n",
      "bullen: daruff gemachet uszgedruekt, so eyn iderman, der hir kegen-\n",
      "wertig gewest ist, wol egentlich hot vorstanden und weysz zeu vor-\n",
      "ezelen, sprechende vorbas, das sie en sotane bewerunge und usz-\n",
      "satezunge, so verre sie is begerende weren, welden in serifilen obir-\n",
      "geben, das sie sulehens im hoffe zcu Rome adir andirs wor bey ge-\n",
      "larten lewten sulden thun befregen und irfaren, ab is so were, alse\n",
      "\n",
      "s) an D. fehlt E, T. b) vnd dis bis eldeston fehlt E. unà dis an iro dld. z. br. T.\n",
      "c)r.und D. und fet E. T. d) w. gotlich naturlicb reebt D. T. e) latronen(sia] und meleti-\n",
      "mensis] T. latronen[sia] und Melitanenfsia] E. f) die allo E. T. a. fehlt D. g) bullen D.\n",
      "briven E. T.\n",
      "\n",
      "\n",
      "\n",
      "------------------------------------\n",
      "\n"
     ]
    }
   ],
   "source": [
    "for i in [1,2,3,4]:\n",
    "    text = pytesseract.image_to_string(imgs[i-1], lang='lat')\n",
    "    print(text)\n",
    "    print('\\n------------------------------------\\n')\n",
    "    with open(f'doc{i}.txt', 'w', encoding='utf-8') as f:\n",
    "        f.write(text)"
   ]
  },
  {
   "cell_type": "markdown",
   "id": "4a6aaca2",
   "metadata": {},
   "source": [
    "## Заключение\n",
    "### Результаты:\n",
    "\n",
    "* Произведена оценка 3 библиотек для задачи OCR (Tesseract, EasyOCR, KerasOCR).\n",
    "* Сформированы текстовые документы с извлечёнными текстовыми данными.\n",
    "\n",
    "### Выводы:\n",
    "\n",
    "* Tesseract быстрее всех обрабатывает данные и имеет удобный формат представления результатов, а также хорошую точность извлечения.\n",
    "* EasyOCR работает медленнее и имеет очень неудобную разметку. Точность примерно та же, но поддерживает специализированные символы.\n",
    "* KerasOCR обрабатывает изображения медленнее всего, имеет хорошую точность и более удобное выделение сегментов, но сегменты не сильно подходять для данной задачи."
   ]
  }
 ],
 "metadata": {
  "kernelspec": {
   "display_name": "Python 3 (ipykernel)",
   "language": "python",
   "name": "python3"
  },
  "language_info": {
   "codemirror_mode": {
    "name": "ipython",
    "version": 3
   },
   "file_extension": ".py",
   "mimetype": "text/x-python",
   "name": "python",
   "nbconvert_exporter": "python",
   "pygments_lexer": "ipython3",
   "version": "3.10.9"
  }
 },
 "nbformat": 4,
 "nbformat_minor": 5
}
