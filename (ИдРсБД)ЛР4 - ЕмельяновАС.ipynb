{
 "cells": [
  {
   "cell_type": "markdown",
   "id": "573f284e",
   "metadata": {},
   "source": [
    "# Лабораторная работа №4\n",
    "## Извлечение именованных объектов (сущностей)"
   ]
  },
  {
   "cell_type": "markdown",
   "id": "9a2e0d88",
   "metadata": {},
   "source": [
    "### Выполнил: Емельянов Андрей Сергеевич гр. 8ПМ21"
   ]
  },
  {
   "cell_type": "markdown",
   "id": "618f2a28",
   "metadata": {},
   "source": [
    "## Описание задания"
   ]
  },
  {
   "cell_type": "markdown",
   "id": "9a0b2199",
   "metadata": {},
   "source": [
    "**Цель работы**: исследовать возможности и практическую применимость реализаций NER для решения задачи извлечения сущностей\n",
    "\n",
    "**Входные данные**: тексты, полученные в лабораторной работе №3 с изображений - сканов книги с архивными средневековыми текстами на древненемецком и латыни.\n",
    "\n",
    "**Выходные данные**: именованные сущности (сущность и тип сущности).\n"
   ]
  },
  {
   "cell_type": "markdown",
   "id": "e6946065",
   "metadata": {},
   "source": [
    "## Ход работы"
   ]
  },
  {
   "cell_type": "markdown",
   "id": "30ba2f61",
   "metadata": {},
   "source": [
    "### Импорт библиотек и чтение данных"
   ]
  },
  {
   "cell_type": "code",
   "execution_count": 1,
   "id": "5ecb5cf5",
   "metadata": {},
   "outputs": [],
   "source": [
    "import spacy\n",
    "import spacy_transformers\n",
    "import en_core_web_trf\n",
    "from deeppavlov import build_model, configs\n",
    "import stanza"
   ]
  },
  {
   "cell_type": "code",
   "execution_count": 2,
   "id": "a8a6e137",
   "metadata": {},
   "outputs": [],
   "source": [
    "text_list= []\n",
    "\n",
    "for i in [1,2,3,4]:\n",
    "    with open(f'doc{i}.txt', encoding='utf-8') as f:\n",
    "        lines = f.readlines()\n",
    "        text_list.append(lines)"
   ]
  },
  {
   "cell_type": "markdown",
   "id": "0004240d",
   "metadata": {},
   "source": [
    "### Извлечение именованных сущностей с помощью spaCy"
   ]
  },
  {
   "cell_type": "code",
   "execution_count": 3,
   "id": "577fb5cf",
   "metadata": {},
   "outputs": [
    {
     "name": "stdout",
     "output_type": "stream",
     "text": [
      "1446 (CARDINAL) Januar 23. (DATE) 1446 (CARDINAL) April 5. (DATE) 452 (CARDINAL) 1446 (CARDINAL) April 5. (DATE) April 5. (DATE) 431 (CARDINAL) 432 (CARDINAL) seyn wirt (PERSON) Holland (GPE) 40. jar. (DATE) Judica (PERSON) Hans von Baysen (PERSON) Elbing (GPE) Judiea (DATE) HM (ORG) Ferner (PERSON) Hollinder (PERSON) Braunsberg (PERSON) Kuoiphof (PERSON) Kannengiesser (PERSON) den Denz. Bec (ORG) 286 (CARDINAL) 22a (CARDINAL) 209 (CARDINAL) Elb (PERSON) 108 (CARDINAL) Anno domini 1446 (DATE) Johannes* Matezke (PERSON) Rutcherus von (PERSON) Birken (GPE) de Elbing (PERSON) Johannes Wintburg (GPE) Johannes (GPE) Sonnenwalt (PERSON) Johannes von Ruden (PERSON) de Brunsberg (PERSON) Nicolaus Rudolffhoven (PERSON) Andreas Bekeman (PERSON) de Koningsberg (PERSON) Nicolaus Plesze (PERSON) Johannes Slesiger (PERSON) de Kneyphabe (PERSON) Georgius Langerbeyn (PERSON) Heynrieus Pfoel de Danezik (PERSON) Lucas Mekelvelt (PERSON) Martinus Cremon (PERSON) Meynhardus Colner (PERSON) Johannes (PERSON) Meydeborg feria tertia post Judica! (ORG) Elbingo (GPE) 3 (CARDINAL) Michel D. E. (PERSON) Mattis (PERSON) \n",
      "\n",
      "-----------------------------------\n",
      "\n",
      "291 (CARDINAL) 1454 (CARDINAL) 400 mark (MONEY) 431 (CARDINAL) 100 mark (MONEY) den drey pfenigen (PERSON) land (GPE) irem hogsten (PERSON) hulflich (GPE) irer grunde (PERSON) Colmisch (ORG) 500 (CARDINAL) 2000 (DATE) Grudenz (GPE) 400 (CARDINAL) Straszburg (GPE) 9 (CARDINAL) Lebenn (PERSON) 200 (CARDINAL) Golaw (PERSON) 50 (CARDINAL) Elbing (PERSON) 200 (CARDINAL) Holland (GPE) 400 (CARDINAL) Morung (PERSON) 100 (CARDINAL) 100 (CARDINAL) Mulhausen (GPE) 50 (CARDINAL) Liebstadt (GPE) 50 (CARDINAL) Passenheim (GPE) 50 (CARDINAL) Bischofthum (GPE) Heilsberg (GPE) Brunsberg (PERSON) Brunsberg (GPE) 200 (CARDINAL) 600 (CARDINAL) 600 (CARDINAL) Heilsbergk (GPE) Gutstadt (GPE) 200 (CARDINAL) Seoburg (GPE) 2 ?00 (TIME) Bischofstein (PERSON) 50 (CARDINAL) 100 (CARDINAL) Allenstein (PERSON) $. 20D (MONEY) Fraunburg (GPE) 100 (CARDINAL) Konigsbergisch gehite. (ORG) Konigsborg (GPE) Gerdau (GPE) Allenbergk (PERSON) Friedland (GPE) Dringfort (PERSON) 3 50 (CARDINAL) Rastenburg (GPE) 400 (CARDINAL) Zegensburg (GPE) Landsberg (GPE) 300 (CARDINAL) 400 (CARDINAL) Heiligenbeil (GPE) 8200 (CARDINAL) Creuzburg (GPE) 100 (CARDINAL) Fischausen (GPE) 50 (CARDINAL) \n",
      "\n",
      "-----------------------------------\n",
      "\n",
      "166 (CARDINAL) eyme gutten (GPE) euw. (PERSON) Brandemburg (GPE) V. Comthur (PERSON) Balga (GPE) HM (ORG) Thorn (GPE) Balga (PERSON) Lichtmess (ORG) 54 (CARDINAL) geschreben (PERSON) damitt eyne (PERSON) santh (PERSON) meyn rath (PERSON) eyne semeliche (PERSON) Nydderlande (GPE) tagefard lege (PERSON) die zcugeen lasze (PERSON) ken Thorun (PERSON) euw. gn. (ORG) Thorun bearbeyten (PERSON) begeren (PERSON) eyn ansteen (PERSON) zcu eyner (PERSON) doch yn dessem (PERSON) Kompthur zeur Balga. (PERSON) \n",
      "\n",
      "-----------------------------------\n",
      "\n",
      "heren homeister (PERSON) widder (PERSON) dovon keyne (PERSON) sunder welde (PERSON) syne gnade (PERSON) Steen laessen (PERSON) ire (PERSON) bergk laessen vorgeben (PERSON) naehdeme eyn iglicher (PERSON) seynes sprengels (PERSON) irzalweren (GPE) selikeyt irer (PERSON) fleyse irer (PERSON) irer undirsossen (PERSON) fleyseger (PERSON) sorgfeldiger (PERSON) kegen sntezunge (PERSON) Onorii (PERSON) Romischen (NORP) Fredericy (PERSON) Karoli (PERSON) dornoch (PERSON) daruff gemachet (PERSON) eyn iderman (PERSON) Rome (GPE) briven E. T. (PERSON) \n",
      "\n",
      "-----------------------------------\n",
      "\n"
     ]
    }
   ],
   "source": [
    "nlp = spacy.load('en_core_web_trf')\n",
    "nlp = en_core_web_trf.load()\n",
    "for text in text_list:\n",
    "    fused = ''\n",
    "    for line in text:  \n",
    "        doc = nlp(line)\n",
    "        for entity in doc.ents:\n",
    "            fused = fused + entity.text.replace('\\n', '') + ' (' + entity.label_ +') '\n",
    "\n",
    "    print(fused)\n",
    "    print('\\n-----------------------------------\\n')"
   ]
  },
  {
   "cell_type": "markdown",
   "id": "992c649b",
   "metadata": {},
   "source": [
    "### Извлечение именованных сущностей с помощью DeepPavlov"
   ]
  },
  {
   "cell_type": "code",
   "execution_count": 4,
   "id": "31090d4a",
   "metadata": {},
   "outputs": [
    {
     "name": "stderr",
     "output_type": "stream",
     "text": [
      "Some weights of the model checkpoint at bert-base-multilingual-cased were not used when initializing BertForTokenClassification: ['cls.predictions.transform.LayerNorm.bias', 'cls.predictions.decoder.weight', 'cls.predictions.bias', 'cls.seq_relationship.bias', 'cls.predictions.transform.LayerNorm.weight', 'cls.predictions.transform.dense.bias', 'cls.predictions.transform.dense.weight', 'cls.seq_relationship.weight']\n",
      "- This IS expected if you are initializing BertForTokenClassification from the checkpoint of a model trained on another task or with another architecture (e.g. initializing a BertForSequenceClassification model from a BertForPreTraining model).\n",
      "- This IS NOT expected if you are initializing BertForTokenClassification from the checkpoint of a model that you expect to be exactly identical (initializing a BertForSequenceClassification model from a BertForSequenceClassification model).\n",
      "Some weights of BertForTokenClassification were not initialized from the model checkpoint at bert-base-multilingual-cased and are newly initialized: ['classifier.weight', 'classifier.bias']\n",
      "You should probably TRAIN this model on a down-stream task to be able to use it for predictions and inference.\n",
      "C:\\Users\\Danil\\.conda\\envs\\testScience\\lib\\site-packages\\TorchCRF\\__init__.py:305: UserWarning: where received a uint8 condition tensor. This behavior is deprecated and will be removed in a future version of PyTorch. Use a boolean condition instead. (Triggered internally at ..\\aten\\src\\ATen\\native\\TensorCompare.cpp:413.)\n",
      "  score = torch.where(mask[i].unsqueeze(1), next_score, score)\n"
     ]
    },
    {
     "name": "stdout",
     "output_type": "stream",
     "text": [
      "Januar (B-DATE) 23 (I-DATE) . (I-DATE)  (I-DATE) April (B-DATE) 5 (I-DATE) . (I-DATE) 452 (B-CARDINAL) April (B-DATE) 5 (I-DATE) . (I-DATE) April (B-DATE) 5 (I-DATE) . (I-DATE) Holland (B-GPE) Pauli (B-PERSON) 40 (B-DATE) . (I-DATE) jar (I-DATE) . (I-DATE) Elbing (B-GPE) 1446 (B-DATE) Landraths (B-PERSON) Hans (B-PERSON) von (I-PERSON) Baysen (I-PERSON) HM (B-PERSON) Rath (B-PERSON) Hollinder (B-PERSON) Mekelfelds (B-PERSON) Westphuls (B-PERSON) Stüdte (B-GPE) Braunsberg (B-GPE) Kuoiphof (B-GPE) Güste (B-LOC) Nürnberger (B-NORP) 286 (B-CARDINAL) 22a (B-CARDINAL) Thorn (B-PERSON) 209 (B-CARDINAL) Elb (B-PERSON) 108 (B-CARDINAL) Anno (B-DATE) domini (I-DATE) 1446 (I-DATE) . (I-DATE) Bartholomeus (B-PERSON) HRosenick (I-PERSON) Johannes (B-PERSON) * (I-PERSON) Matezke (I-PERSON) * (I-PERSON) Thorun (B-PERSON) Hermannus (B-PERSON) Rusop (I-PERSON) Rutcherus (B-PERSON) von (I-PERSON) Birken (B-PERSON) Elbing (B-GPE) Petrus (B-PERSON) Storm (I-PERSON) Johannes (B-PERSON) Wintburg (I-PERSON) Johannes (B-PERSON) Johannes (B-PERSON) von (I-PERSON) Ruden (I-PERSON) Brunsberg (B-GPE) Nicolaus (B-PERSON) Rudolffhoven (I-PERSON) Andreas (B-PERSON) Bekeman (I-PERSON) de (B-FAC) Nicolaus (B-PERSON) Plesze (I-PERSON) Johannes (B-PERSON) Slesiger (I-PERSON) de (B-PERSON) Kneyphabe (I-PERSON) Georgius (B-PERSON) Langerbeyn (I-PERSON) Heynrieus (B-PERSON) Pfoel (I-PERSON) de (I-PERSON) Danezik (I-PERSON) Lucas (B-PERSON) Mekelvelt (I-PERSON) Martinus (B-PERSON) Cremon (I-PERSON) Meynhardus (B-PERSON) Colner (I-PERSON) * (I-PERSON) Johannes (B-PERSON)  (I-PERSON) Meydeborg (B-GPE) Elbingo (B-GPE) Wydow (B-PERSON) 3 (B-CARDINAL) Michel (B-PERSON) D (I-PERSON) . (I-PERSON) E (I-PERSON) Mattis (B-PERSON) Mattis (B-PERSON) Weise (I-PERSON) Dio (B-PERSON) Draunsberger (I-PERSON) Judice (B-PERSON) Weysel (B-PERSON) \n",
      "\n",
      "-----------------------------------\n",
      "\n",
      "291 (B-CARDINAL) 400 (B-MONEY) 100 (B-MONEY) 500 (B-CARDINAL) Thorun (B-PERSON) 2000 (B-DATE) Grudenz (B-ORG) Straszburg (B-GPE) Neumark (B-ORG) 400 (B-MONEY) ESO (B-ORG) 50 (B-CARDINAL) Sehonsee (B-GPE) 5 (B-CARDINAL) 50 (B-CARDINAL) 3o (B-CARDINAL) 2000 (B-DATE) Neustadt (B-GPE) Elbing (B-GPE) 200 (B-CARDINAL) Holland (B-GPE) 400 (B-CARDINAL) Morung (B-PERSON) 100 (B-CARDINAL) Tolkemit (B-ORG) Mulhausen (B-FAC) Liebstadt (B-GPE) 50 (B-CARDINAL) Passenheim (B-GPE) 50 (B-CARDINAL) Heilsberg (B-GPE) 9 (B-DATE) 2000 (B-DATE) Neustadt (B-GPE) Brunsberg (I-GPE) 200 (B-CARDINAL) 600 (B-CARDINAL) 8 (B-CARDINAL) Gutstadt (B-GPE) Seoburg (B-GPE) Bischofstein (B-PERSON) Allenstein (B-ORG) Fraunburg (B-GPE) Konigsborg (B-GPE) Gerdau (B-PERSON) Allenbergk (B-GPE) Friedland (B-PERSON) 3 (B-CARDINAL) 50 (B-CARDINAL) 10 (B-CARDINAL) 200 (B-CARDINAL) Rastenburg (B-GPE) Zegensburg (B-GPE) Bartenstein (B-PERSON) Landsberg (B-GPE) Czinten (B-PERSON) Heiligenbeil (B-GPE) Creuzburg (B-GPE) 100 (B-CARDINAL) \n",
      "\n",
      "-----------------------------------\n",
      "\n",
      "166 (B-CARDINAL) Brandenburg (B-GPE) Brandemburg (B-GPE) V (B-PERSON) . (B-PERSON) Comthur (I-PERSON) Balga (B-PERSON) HM (B-ORG) Thorn (B-GPE) Balga (B-PERSON) 54 (B-CARDINAL) Straszburg (B-GPE) Nydderlande (B-GPE) Thorun (B-PERSON) Balga (B-PERSON) Balga (B-PERSON) \n",
      "\n",
      "-----------------------------------\n",
      "\n",
      "Heyligs (B-PERSON) Preusen (B-NORP) Onorii (B-PERSON) Romischen (B-NORP) Fredericy (B-PERSON) Karoli (B-PERSON) Lateranen (B-NORP) Melotanen (B-PERSON) briven (B-PERSON) \n",
      "\n",
      "-----------------------------------\n",
      "\n"
     ]
    }
   ],
   "source": [
    "ner_model = build_model(configs.ner.ner_ontonotes_bert_mult, download=True)\n",
    "for text in text_list:\n",
    "    fused = ''\n",
    "    for line in text:    \n",
    "        ner_predictions = ner_model([line])\n",
    "\n",
    "        for token, tag in zip(ner_predictions[0][0], ner_predictions[1][0]):\n",
    "            if tag != 'O':\n",
    "                fused = fused + token.replace('\\n', '') + ' (' + tag +') '\n",
    "\n",
    "    print(fused)\n",
    "    print('\\n-----------------------------------\\n')"
   ]
  },
  {
   "cell_type": "markdown",
   "id": "7d9e79a4",
   "metadata": {},
   "source": [
    "### Извлечение именованных сущностей с помощью Stanza"
   ]
  },
  {
   "cell_type": "code",
   "execution_count": 5,
   "id": "949e27ca",
   "metadata": {
    "scrolled": false
   },
   "outputs": [
    {
     "name": "stderr",
     "output_type": "stream",
     "text": [
      "2023-04-05 22:23:44 INFO: Checking for updates to resources.json in case models have been updated.  Note: this behavior can be turned off with download_method=None or download_method=DownloadMethod.REUSE_RESOURCES\n"
     ]
    },
    {
     "data": {
      "application/vnd.jupyter.widget-view+json": {
       "model_id": "8a6b1d9d0fb94b3c92618fa20f36c617",
       "version_major": 2,
       "version_minor": 0
      },
      "text/plain": [
       "Downloading https://raw.githubusercontent.com/stanfordnlp/stanza-resources/main/resources_1.5.0.json:   0%|   …"
      ]
     },
     "metadata": {},
     "output_type": "display_data"
    },
    {
     "name": "stderr",
     "output_type": "stream",
     "text": [
      "2023-04-05 22:23:45 INFO: Loading these models for language: en (English):\n",
      "=========================\n",
      "| Processor | Package   |\n",
      "-------------------------\n",
      "| tokenize  | combined  |\n",
      "| ner       | ontonotes |\n",
      "=========================\n",
      "\n",
      "2023-04-05 22:23:45 INFO: Using device: cpu\n",
      "2023-04-05 22:23:45 INFO: Loading: tokenize\n",
      "2023-04-05 22:23:45 INFO: Loading: ner\n",
      "2023-04-05 22:23:46 INFO: Done loading processors!\n"
     ]
    },
    {
     "name": "stdout",
     "output_type": "stream",
     "text": [
      "1446 (CARDINAL) Januar 23 (DATE) 1446 (CARDINAL) April 5 (DATE) 452 (CARDINAL) 1446 (CARDINAL) April 5 (DATE) April 5 (DATE) 692 1446 (CARDINAL) 431 (CARDINAL) 432 (CARDINAL) Geben (PERSON) Holland (GPE) Donrstag nach (PERSON) Pauli (PERSON) 40 (CARDINAL) Stándetag zu Elbing (PERSON) Tagfahrt (GPE) Hans von Baysen (PERSON) Tagfahrt zu Elbing (PERSON) Dienstag (GPE) 1440 (CARDINAL) Weichselausbrüche (GPE) Wissen des HM's (FAC) Eeron (ORG) Ferner kommen zur (PERSON) Verhandlung eim Achtbrief (PERSON) Sache (PERSON) Stüdte Braunsberg (PERSON) Kuoiphof (GPE) Betreff (GPE) Pfundzolles (PERSON) Lande (PERSON) Lederausfuhr (PERSON) Arbeit dor Kannengiesser (PERSON) Verpackung der Heringe (PERSON) den Denz (GPE) 286 (CARDINAL) 22a (CARDINAL) 209 (CARDINAL) 108 (CARDINAL) 1446 (CARDINAL) Johannes* Matezke* (PERSON) Rutcherus (GPE) Petrus Storm (PERSON) Johannes Wintburg (PERSON) Johannes (PERSON) Sonnenwalt (PERSON) Johannes von Ruden (PERSON) Nicolaus Rudolffhoven (PERSON) Andreas Bekeman? (PERSON) de Koningsberg (PERSON) Nicolaus Plesze (PERSON) Johannes Slesiger (PERSON) Georgius Langerbeyn (PERSON) Heynrieus Pfoel de Danezik (ORG) Lucas Mekelvelt (PERSON) Martinus Cremon (PERSON) Meynhardus Colner (PERSON) Elbingo (GPE) Michel D. E. b) (PERSON) Mattis (PERSON) Mattis (GPE) D. (NORP) Dio Draunsberger (PERSON) Meydeb (PERSON) \n",
      "\n",
      "-----------------------------------\n",
      "\n",
      "291 (CARDINAL) 1454 (CARDINAL) 431 (CARDINAL) 100 mark (MONEY) Colmen (PERSON) 500 (CARDINAL) 2000 (DATE) 400 (CARDINAL) Straszburg (PERSON) 400 (MONEY) 200 (CARDINAL) Golaw (PERSON) 50 (CARDINAL) 5 50 (CARDINAL) 50 (CARDINAL) 2000 (DATE) 200 (CARDINAL) Holland (GPE) 400 (CARDINAL) 100 (CARDINAL) 100 (CARDINAL) 50 (CARDINAL) 50 (CARDINAL) 50 (CARDINAL) Bischofthum Heilsberg. (PERSON) 2000 (DATE) Neustadt Brunsberg (PERSON) 200 (CARDINAL) 600 (CARDINAL) 600 (CARDINAL) Heilsbergk (PERSON) 8 (CARDINAL) Conj (PERSON) Gutstadt (GPE) 200 (CARDINAL) Seoburg (PERSON) 2 (CARDINAL) Bischofstein (PERSON) 50 (CARDINAL) 100 (CARDINAL) Fraunburg (GPE) 100 (CARDINAL) Konigsborg (PERSON) Lebenicht (PERSON) Welau (GPE) Gerdau (PERSON) Allenbergk (PERSON) Friedland (PERSON) 30 (CARDINAL) Domnaw (PERSON) 3 (CARDINAL) 50 (CARDINAL) 10 200 (CARDINAL) 400 (CARDINAL) Zegensburg (GPE) 30 (CARDINAL) 300 (CARDINAL) 400 (CARDINAL) Heiligenbeil (PERSON) 8200 (CARDINAL) 100 (CARDINAL) 50 (CARDINAL) \n",
      "\n",
      "-----------------------------------\n",
      "\n",
      "166 (CARDINAL) Geben zeu Brandenburg (PERSON) 54 (CARDINAL) Brandemburg (GPE) Balga (GPE) Land und Stüdten (FAC) Thorn (GPE) Balga (ORG) 54 (CARDINAL) Meynen (PERSON) Balga (GPE) Balga (GPE) \n",
      "\n",
      "-----------------------------------\n",
      "\n",
      "1446 (CARDINAL) Steen laessen (PERSON) Onorii (PERSON) \n",
      "\n",
      "-----------------------------------\n",
      "\n"
     ]
    }
   ],
   "source": [
    "nlp = stanza.Pipeline(lang='en', processors='tokenize,ner')\n",
    "for text in text_list:\n",
    "    fused = ''\n",
    "    for line in text:\n",
    "        doc = nlp(line)\n",
    "\n",
    "        for sentence in doc.sentences:\n",
    "            for entity in sentence.ents:\n",
    "                fused = fused + entity.text.replace('\\n', '') + ' (' + entity.type +') '\n",
    "\n",
    "    print(fused)\n",
    "    print('\\n-----------------------------------\\n')"
   ]
  },
  {
   "cell_type": "markdown",
   "id": "4cb879c7",
   "metadata": {},
   "source": [
    "## Заключение\n",
    "### Результаты:\n",
    "\n",
    "* Произведено извлечение именованных сущностей с помощью трёх библиотек для задачи NER (spaCy, DeepPavlov, Stanza)\n",
    "\n",
    "### Выводы:\n",
    "\n",
    "* **spaCy** не имеет поддержки латинского, с использованием английского пакета он смог извлечь сущности. Качество разметки очень низкое, так как в разметку попадает много слов, не относящихся к присвоенным сущностям.\n",
    "* **DeepPavlov** произвёл разметку наиболее качественно. Разметке подвергается каждый токен. Языковой пакет универсальный. Есть проблемы с разметкой дат, но делает он это лучше, чем остальные.\n",
    "* **Stanza** не имеет поддержки NER в стандартном пакете для латинского языка, но английский пакет справляется достаточно качественно. Есть неразмеченные сущности, но нет выбросов (склонен к ошибкам 1 - го порядка, что в контексте задачи лучше)."
   ]
  }
 ],
 "metadata": {
  "kernelspec": {
   "display_name": "Python 3 (ipykernel)",
   "language": "python",
   "name": "python3"
  },
  "language_info": {
   "codemirror_mode": {
    "name": "ipython",
    "version": 3
   },
   "file_extension": ".py",
   "mimetype": "text/x-python",
   "name": "python",
   "nbconvert_exporter": "python",
   "pygments_lexer": "ipython3",
   "version": "3.10.9"
  }
 },
 "nbformat": 4,
 "nbformat_minor": 5
}
